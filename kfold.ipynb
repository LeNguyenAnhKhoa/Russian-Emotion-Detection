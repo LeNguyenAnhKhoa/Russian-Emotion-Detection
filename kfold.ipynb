{
 "cells": [
  {
   "cell_type": "code",
   "execution_count": 3,
   "id": "04f47e0d",
   "metadata": {},
   "outputs": [
    {
     "name": "stderr",
     "output_type": "stream",
     "text": [
      "d:\\Python\\Lib\\site-packages\\tqdm\\auto.py:21: TqdmWarning: IProgress not found. Please update jupyter and ipywidgets. See https://ipywidgets.readthedocs.io/en/stable/user_install.html\n",
      "  from .autonotebook import tqdm as notebook_tqdm\n"
     ]
    }
   ],
   "source": [
    "import json, torch\n",
    "from LoadData import load_dataset\n",
    "from Model import Model\n",
    "from EmotionDataset import EmotionDataset\n",
    "from train import train\n",
    "from plot import plot\n",
    "from predict import predict\n",
    "from sklearn.model_selection import KFold\n",
    "import numpy as np\n",
    "from analyze import analyze"
   ]
  },
  {
   "cell_type": "code",
   "execution_count": 7,
   "id": "cef72b42",
   "metadata": {},
   "outputs": [],
   "source": [
    "with open(\"./config.json\", \"r\") as file:\n",
    "    config = json.load(file)\n",
    "batch_size = config[\"batch_size\"]\n",
    "train_path = config[\"train_path\"]\n",
    "test_path = config[\"test_path\"]\n",
    "learning_rate = config[\"learning_rate\"]\n",
    "base_model = config[\"base_model\"]\n",
    "num_labels = config[\"num_labels\"]\n",
    "problem_type = config[\"problem_type\"]\n",
    "labels = config[\"LABELS\"]\n",
    "num_epoch = config[\"num_epoch\"]\n",
    "eps = config[\"eps\"]\n",
    "th = config[\"th\"]\n",
    "random_state = config[\"random_state\"]\n",
    "n_splits = config[\"n_splits\"]\n",
    "Min_loss = config[\"Min_loss\"]\n",
    "num_folds = config[\"num_fold\"]"
   ]
  },
  {
   "cell_type": "code",
   "execution_count": 8,
   "id": "34c22e1e",
   "metadata": {},
   "outputs": [],
   "source": [
    "X, y, X_test, test_df = load_dataset(train_path, test_path)\n",
    "kfold = KFold(n_splits=n_splits, shuffle=True, random_state=random_state)"
   ]
  },
  {
   "cell_type": "code",
   "execution_count": 9,
   "id": "dabbce3c",
   "metadata": {},
   "outputs": [],
   "source": [
    "from sklearn.metrics import f1_score\n",
    "def find_threshold(model, valid_loader):\n",
    "    device = torch.device('cuda') if torch.cuda.is_available() else torch.device('cpu') \n",
    "    for th in np.arange(0.2, 0.7, 0.01):\n",
    "        f1score_sum = 0\n",
    "        for batch in valid_loader:\n",
    "            batch = {k: v.to(device) for k, v in batch.items() if k != \"text\"}\n",
    "            with torch.no_grad():\n",
    "                outputs = model(**batch)\n",
    "            logits = outputs.logits\n",
    "            predictions = np.array(torch.sigmoid(logits).tolist())\n",
    "            predictions = np.where(predictions > th, 1, 0)\n",
    "            label = batch[\"labels\"].cpu().numpy()\n",
    "            f1score_sum += f1_score(label, predictions, average='macro', zero_division=1)\n",
    "            \n",
    "        f1score_avg = (f1score_sum / len(valid_loader)).item()\n",
    "        print(f\"threshold = {th:.3f}   -   f1-score = {f1score_avg:.5f}\")"
   ]
  },
  {
   "cell_type": "code",
   "execution_count": null,
   "id": "a3925943",
   "metadata": {},
   "outputs": [],
   "source": [
    "best_models = [] \n",
    "fold_valid_losses = [] \n",
    "wrong_predcit = []\n",
    "\n",
    "for fold, (train_idx, val_idx) in enumerate(kfold.split(X)):\n",
    "    X_train, X_valid = X[train_idx].tolist(), X[val_idx].tolist()\n",
    "    y_train, y_valid = y[train_idx].tolist(), y[val_idx].tolist()\n",
    "    model, tokenizer = Model(base_model, num_labels, problem_type, labels).build()\n",
    "    train_loader, valid_loader, test_loader = EmotionDataset(tokenizer, batch_size).build_dataset(X_train, y_train, X_valid, y_valid, X_test)\n",
    "\n",
    "    optimizer = torch.optim.AdamW(model.parameters(), lr = learning_rate, betas = (0.9, 0.98), eps = eps, weight_decay=0.01)\n",
    "    model, train_losses, valid_losses, train_f1scores, valid_f1scores = train(num_epoch, model, train_loader, valid_loader, optimizer, th, Min_loss)\n",
    "    wrong_predcit.append(analyze(model, valid_loader, th))\n",
    "    #find_threshold(model, valid_loader)\n",
    "    #plot(train_losses, valid_losses, \"loss\", \"Loss training and valid curve\", num_epoch)\n",
    "    #plot(train_f1scores, valid_f1scores, \"F1-score\", \"F1-score training and valid\", num_epoch)\n",
    "    \n",
    "    Min_valid_loss = valid_losses[-1]\n",
    "    fold_valid_losses.append(Min_valid_loss)\n",
    "\n",
    "    if Min_valid_loss < Min_loss:\n",
    "        model_save_path = f'model_fold_{fold + 1}_loss_{Min_valid_loss:.4f}.pt'\n",
    "        torch.save({\n",
    "            'fold': fold + 1,\n",
    "            'model_state_dict': model.state_dict(),\n",
    "            'optimizer_state_dict': optimizer.state_dict(),\n",
    "            'valid_loss': Min_valid_loss,\n",
    "            'train_losses': train_losses,\n",
    "            'valid_losses': valid_losses,\n",
    "            'train_f1scores': train_f1scores,\n",
    "            'valid_f1scores': valid_f1scores\n",
    "        }, model_save_path)\n",
    "        best_models.append({\n",
    "            'fold': fold + 1,\n",
    "            'model': model,\n",
    "            'loss': Min_valid_loss,\n",
    "            'path': model_save_path\n",
    "        })\n",
    "        print(f\"Saved model for fold {fold + 1} with validation loss: {Min_valid_loss:.4f}\\n\\n\\n\")\n",
    "    if fold == num_folds-1:\n",
    "        break"
   ]
  },
  {
   "cell_type": "code",
   "execution_count": null,
   "id": "4015e93b",
   "metadata": {},
   "outputs": [],
   "source": [
    "import pandas as pd\n",
    "pd.set_option('display.max_colwidth', None)\n",
    "pd.set_option('display.max_rows', None)\n",
    "wrong_predcit[0]"
   ]
  }
 ],
 "metadata": {
  "kernelspec": {
   "display_name": "Python 3",
   "language": "python",
   "name": "python3"
  },
  "language_info": {
   "codemirror_mode": {
    "name": "ipython",
    "version": 3
   },
   "file_extension": ".py",
   "mimetype": "text/x-python",
   "name": "python",
   "nbconvert_exporter": "python",
   "pygments_lexer": "ipython3",
   "version": "3.13.2"
  }
 },
 "nbformat": 4,
 "nbformat_minor": 5
}
